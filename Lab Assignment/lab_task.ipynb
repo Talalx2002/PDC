{
 "cells": [
  {
   "cell_type": "code",
   "execution_count": 1,
   "metadata": {},
   "outputs": [],
   "source": [
    "import numpy as np\n",
    "import multiprocessing\n",
    "import time"
   ]
  },
  {
   "cell_type": "code",
   "execution_count": 2,
   "metadata": {},
   "outputs": [
    {
     "name": "stdout",
     "output_type": "stream",
     "text": [
      "Matrix A:\n",
      "[[0.4548763  0.6216911  0.50391525 ... 0.00369763 0.39375517 0.06718814]\n",
      " [0.31206653 0.29331502 0.9263065  ... 0.65614986 0.12358689 0.44600904]\n",
      " [0.29091084 0.31351155 0.22357476 ... 0.30011597 0.5337151  0.80260366]\n",
      " ...\n",
      " [0.86704206 0.9249799  0.6262949  ... 0.07470996 0.36723247 0.81213945]\n",
      " [0.81329954 0.38680884 0.76461536 ... 0.73545235 0.5887121  0.43404484]\n",
      " [0.53390807 0.83476394 0.58203906 ... 0.7946801  0.71955055 0.86713576]]\n",
      "\n",
      "Vector B:\n",
      "[0.70195705 0.8582592  0.63039845 0.6407655  0.0838889  0.49068233\n",
      " 0.06188665 0.56804216 0.55312485 0.70143324 0.09529819 0.0068259\n",
      " 0.28780523 0.377534   0.29577798 0.14743431 0.07699648 0.44986907\n",
      " 0.8861802  0.43641105 0.69147766 0.5889099  0.40687627 0.50427306\n",
      " 0.56893665 0.19742274 0.22145168 0.86135644 0.32386923 0.8211296\n",
      " 0.47954488 0.46489078 0.56517833 0.9741643  0.44780457 0.94777465\n",
      " 0.37993202 0.2521069  0.45698422 0.3285581  0.8780014  0.92533535\n",
      " 0.16916123 0.3649087  0.8674782  0.41462225 0.8451864  0.93792206\n",
      " 0.9011473  0.2593449  0.6028493  0.9864403  0.18640672 0.6031209\n",
      " 0.04455924 0.01263297 0.66937083 0.245009   0.90331435 0.43886018\n",
      " 0.84679705 0.46595728 0.6788314  0.16411166 0.16065204 0.46938077\n",
      " 0.5817166  0.23672356 0.00813473 0.34921122 0.85806954 0.04683516\n",
      " 0.15951982 0.2237635  0.1413479  0.09405684 0.26125377 0.51597565\n",
      " 0.5085943  0.87611634 0.09154475 0.7121949  0.43521196 0.47961608\n",
      " 0.01720993 0.7625873  0.8864704  0.5097936  0.98265314 0.42742702\n",
      " 0.35833362 0.4243184  0.31652948 0.5031852  0.7799985  0.6935599\n",
      " 0.49468812 0.75612074 0.97459537 0.01328721 0.38258636 0.5530326\n",
      " 0.6432862  0.9495003  0.60394746 0.383026   0.9468879  0.09573661\n",
      " 0.52315927 0.59171045 0.44662526 0.77530855 0.08669923 0.7352661\n",
      " 0.63150674 0.6194921  0.6034612  0.3427202  0.19388302 0.40605226\n",
      " 0.627772   0.56295353 0.3437939  0.9496628  0.43445107 0.17982125\n",
      " 0.0056503  0.92764175 0.03787422 0.9361473  0.22606458 0.93053305\n",
      " 0.71728206 0.7758428  0.87477946 0.35862726 0.47525388 0.6613833\n",
      " 0.6001666  0.8200152  0.459722   0.26686275 0.9523631  0.2606935\n",
      " 0.7609499  0.8035238  0.2365785  0.5775334  0.9542574  0.3951559\n",
      " 0.40894952 0.6709266  0.96453375 0.39838463 0.76733875 0.50828\n",
      " 0.34897932 0.30607906 0.521597   0.58995235 0.4661741  0.8853767\n",
      " 0.9288229  0.6605389  0.9305132  0.7378763  0.6789536  0.8032897\n",
      " 0.3080868  0.32557124 0.66441196 0.10877287 0.76672643 0.85767287\n",
      " 0.86896443 0.6800904  0.73380107 0.7059317  0.17732324 0.99660665\n",
      " 0.15122104 0.00448946 0.6324122  0.65100443 0.84259236 0.66689444\n",
      " 0.25475216 0.276994   0.10572529 0.95363677 0.7866701  0.42045048\n",
      " 0.7126082  0.13424909 0.7310611  0.08825417 0.2915322  0.54688287\n",
      " 0.5288451  0.15335745]\n"
     ]
    }
   ],
   "source": [
    "# Initialize matrix A with random floating-point values\n",
    "A = np.random.rand(200, 200).astype(np.float32)\n",
    "\n",
    "# Initialize vector B with random floating-point values\n",
    "B = np.random.rand(200).astype(np.float32)\n",
    "\n",
    "# Printing A and B (optional)\n",
    "print(\"Matrix A:\")\n",
    "print(A)\n",
    "print(\"\\nVector B:\")\n",
    "print(B)"
   ]
  },
  {
   "cell_type": "code",
   "execution_count": 3,
   "metadata": {},
   "outputs": [],
   "source": [
    "# Function to perform matrix-vector multiplication\n",
    "def mat_vec_multiply(matrix_row, vector):\n",
    "    return np.dot(matrix_row, vector)"
   ]
  },
  {
   "cell_type": "code",
   "execution_count": 4,
   "metadata": {},
   "outputs": [],
   "source": [
    "def apply_method(A, B):\n",
    "    start_time = time.time()\n",
    "    pool = multiprocessing.Pool()\n",
    "    result = pool.apply(mat_vec_multiply, args=(A, B))\n",
    "    pool.close()\n",
    "    pool.join()\n",
    "    end_time = time.time()\n",
    "    execution_time = end_time - start_time\n",
    "    return result, execution_time"
   ]
  },
  {
   "cell_type": "code",
   "execution_count": 5,
   "metadata": {},
   "outputs": [],
   "source": [
    "def apply_async_method(A, B):\n",
    "    start_time = time.time()\n",
    "    pool = multiprocessing.Pool()\n",
    "    result = pool.apply_async(mat_vec_multiply, args=(A, B))\n",
    "    pool.close()\n",
    "    pool.join()\n",
    "    end_time = time.time()\n",
    "    execution_time = end_time - start_time\n",
    "    return result.get(), execution_time"
   ]
  },
  {
   "cell_type": "code",
   "execution_count": 6,
   "metadata": {},
   "outputs": [],
   "source": [
    "def map_method(A, B):\n",
    "    start_time = time.time()\n",
    "    pool = multiprocessing.Pool()\n",
    "    result = pool.map(mat_vec_multiply, [A] * len(B), B)\n",
    "    pool.close()\n",
    "    pool.join()\n",
    "    end_time = time.time()\n",
    "    execution_time = end_time - start_time\n",
    "    return result, execution_time"
   ]
  },
  {
   "cell_type": "code",
   "execution_count": 7,
   "metadata": {},
   "outputs": [],
   "source": [
    "def map_async_method(A, B):\n",
    "    start_time = time.time()\n",
    "    pool = multiprocessing.Pool()\n",
    "    result = pool.map_async(mat_vec_multiply, [A] * len(B), B)\n",
    "    pool.close()\n",
    "    pool.join()\n",
    "    end_time = time.time()\n",
    "    execution_time = end_time - start_time\n",
    "    return result.get(), execution_time"
   ]
  },
  {
   "cell_type": "code",
   "execution_count": 8,
   "metadata": {},
   "outputs": [],
   "source": [
    "def starmap_method(A, B):\n",
    "    start_time = time.time()\n",
    "    pool = multiprocessing.Pool()\n",
    "    result = pool.starmap(mat_vec_multiply, [(A, b) for b in B])\n",
    "    pool.close()\n",
    "    pool.join()\n",
    "    end_time = time.time()\n",
    "    execution_time = end_time - start_time\n",
    "    return result, execution_time"
   ]
  },
  {
   "cell_type": "code",
   "execution_count": 9,
   "metadata": {},
   "outputs": [],
   "source": [
    "def starmap_async_method(A, B):\n",
    "    start_time = time.time()\n",
    "    pool = multiprocessing.Pool()\n",
    "    result = pool.starmap_async(mat_vec_multiply, [(A, b) for b in B])\n",
    "    pool.close()\n",
    "    pool.join()\n",
    "    end_time = time.time()\n",
    "    execution_time = end_time - start_time\n",
    "    return result.get(), execution_time\n"
   ]
  },
  {
   "cell_type": "code",
   "execution_count": 10,
   "metadata": {},
   "outputs": [
    {
     "name": "stdout",
     "output_type": "stream",
     "text": [
      "Matrix A shape: (200, 200)\n",
      "Vector B shape: (200,)\n"
     ]
    }
   ],
   "source": [
    "def main():\n",
    " # Generate random matrix A and vector B\n",
    "\n",
    "    print(\"Matrix A shape:\", A.shape)\n",
    "    print(\"Vector B shape:\", B.shape)\n",
    "    # Measure execution time for each method\n",
    "    result_apply, time_apply = apply_method(A, B)\n",
    "    # result_apply_async, time_apply_async = apply_async_method(A, B)\n",
    "    # result_map, time_map = map_method(A, B)\n",
    "    # result_map_async, time_map_async = map_async_method(A, B)\n",
    "    # result_starmap, time_starmap = starmap_method(A, B)\n",
    "    # result_starmap_async, time_starmap_async = starmap_async_method(A, B)\n",
    "\n",
    "    # Print results\n",
    "    print(f\"Method: apply, Execution Time: {time_apply:.6f} seconds\")\n",
    "    # print(f\"Method: apply_async, Execution Time: {time_apply_async:.6f} seconds\")\n",
    "    # print(f\"Method: map, Execution Time: {time_map:.6f} seconds\")\n",
    "    # print(f\"Method: map_async, Execution Time: {time_map_async:.6f} seconds\")\n",
    "    # print(f\"Method: starmap, Execution Time: {time_starmap:.6f} seconds\")\n",
    "    # print(f\"Method: starmap_async, Execution Time: {time_starmap_async:.6f} seconds\")\n",
    "    \n",
    "if __name__ == \"__main__\":\n",
    "    main()"
   ]
  }
 ],
 "metadata": {
  "kernelspec": {
   "display_name": ".venv",
   "language": "python",
   "name": "python3"
  },
  "language_info": {
   "codemirror_mode": {
    "name": "ipython",
    "version": 3
   },
   "file_extension": ".py",
   "mimetype": "text/x-python",
   "name": "python",
   "nbconvert_exporter": "python",
   "pygments_lexer": "ipython3",
   "version": "3.11.4"
  }
 },
 "nbformat": 4,
 "nbformat_minor": 2
}
