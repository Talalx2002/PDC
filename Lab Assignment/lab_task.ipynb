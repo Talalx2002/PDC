{
 "cells": [
  {
   "cell_type": "code",
   "execution_count": null,
   "metadata": {},
   "outputs": [],
   "source": [
    "import numpy as np\n",
    "\n",
    "# Initialize matrix A with random floating-point values\n",
    "A = np.random.rand(200, 200).astype(np.float32)\n",
    "\n",
    "# Initialize vector B with random floating-point values\n",
    "B = np.random.rand(200).astype(np.float32)\n",
    "\n",
    "# Printing A and B (optional)\n",
    "print(\"Matrix A:\")\n",
    "print(A)\n",
    "print(\"\\nVector B:\")\n",
    "print(B)"
   ]
  }
 ],
 "metadata": {
  "language_info": {
   "name": "python"
  }
 },
 "nbformat": 4,
 "nbformat_minor": 2
}
