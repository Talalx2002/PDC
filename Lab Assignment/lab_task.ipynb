{
 "cells": [
  {
   "cell_type": "code",
   "execution_count": 3,
   "metadata": {},
   "outputs": [],
   "source": [
    "import numpy as np\n",
    "import multiprocessing\n",
    "import time"
   ]
  },
  {
   "cell_type": "code",
   "execution_count": 4,
   "metadata": {},
   "outputs": [
    {
     "name": "stdout",
     "output_type": "stream",
     "text": [
      "Matrix A:\n",
      "[[0.4714276  0.5892526  0.3973826  ... 0.4732418  0.19517124 0.36948878]\n",
      " [0.8387932  0.06810858 0.567876   ... 0.06313246 0.8289309  0.39525297]\n",
      " [0.09126715 0.22427519 0.43903133 ... 0.5456941  0.8457806  0.4963899 ]\n",
      " ...\n",
      " [0.36819062 0.3970589  0.23011333 ... 0.66938424 0.3623733  0.49153388]\n",
      " [0.9452132  0.3903168  0.63112956 ... 0.78890693 0.42107335 0.76685774]\n",
      " [0.6091455  0.1809672  0.7154402  ... 0.99266595 0.06875362 0.49657863]]\n",
      "\n",
      "Vector B:\n",
      "[2.4984398e-01 3.0609417e-01 2.4283521e-01 5.3557120e-02 8.7887657e-01\n",
      " 2.3279659e-01 4.0323591e-01 3.9495373e-01 6.4964247e-01 1.1275277e-01\n",
      " 5.9167612e-01 1.2816848e-01 7.7874285e-01 1.6978076e-01 2.6853591e-01\n",
      " 8.5772657e-01 7.6699567e-01 9.1735616e-02 4.5461535e-01 1.0629357e-03\n",
      " 3.2161942e-01 2.3226455e-01 1.8440101e-02 6.6115242e-01 7.7138484e-02\n",
      " 3.5440061e-02 5.3382885e-01 6.2467849e-01 7.4202365e-01 9.6178544e-01\n",
      " 4.9652490e-01 3.1721684e-01 4.1857746e-01 7.2792101e-01 6.0290521e-01\n",
      " 4.3914902e-01 2.8710479e-01 8.6340195e-01 5.9392291e-01 9.8326427e-01\n",
      " 2.8024545e-01 1.3528288e-02 4.9719715e-01 8.6187047e-01 1.3518757e-01\n",
      " 1.8331374e-01 7.2376095e-02 1.9139178e-01 3.0384892e-01 1.1165855e-01\n",
      " 8.6833948e-01 7.2830302e-01 5.4369599e-01 5.1974063e-03 5.7836926e-01\n",
      " 6.1146384e-01 4.3132794e-01 4.5056388e-01 5.5680859e-01 9.4309449e-01\n",
      " 7.3475796e-01 2.5109863e-01 8.6872345e-01 6.4551359e-01 6.9553834e-01\n",
      " 1.4164265e-01 7.8105479e-01 6.8102723e-01 2.6591334e-02 6.5704608e-01\n",
      " 1.7662530e-01 2.4204616e-01 5.7210279e-01 2.3028992e-01 2.6266304e-01\n",
      " 7.9694939e-01 8.0198920e-01 7.9193515e-01 1.5331081e-01 3.3475393e-01\n",
      " 2.6083547e-01 2.7481574e-01 1.2482636e-01 4.3413284e-01 9.7918880e-01\n",
      " 3.8924375e-01 2.8878796e-01 4.3955885e-02 8.3840862e-02 2.5864711e-01\n",
      " 7.0990855e-01 1.9264466e-01 6.8832570e-01 6.0120875e-01 1.5464213e-01\n",
      " 5.0759923e-01 9.1981053e-01 4.3186972e-01 5.9556984e-04 9.5386523e-01\n",
      " 6.5270096e-01 5.3758830e-01 7.7538490e-01 6.6582638e-01 5.4040737e-02\n",
      " 2.6067364e-01 2.5870460e-01 6.3340384e-01 2.8655265e-02 6.3976854e-02\n",
      " 2.1163999e-01 8.9157850e-01 4.6710375e-01 4.9858242e-01 2.1806194e-01\n",
      " 6.5546781e-02 9.8355860e-01 4.3464157e-01 5.2573550e-02 4.0189779e-04\n",
      " 5.8160907e-01 1.5860811e-01 6.3084459e-01 2.9232504e-02 7.6569337e-01\n",
      " 8.8982695e-01 9.6469557e-01 8.2428211e-01 7.2526962e-01 6.2654251e-01\n",
      " 5.9254563e-01 2.1417534e-01 8.7662384e-02 4.8928043e-01 5.7458860e-01\n",
      " 2.8027523e-01 8.2414734e-01 4.4277343e-01 3.5501763e-01 2.7278557e-01\n",
      " 8.3673626e-01 1.3785644e-01 4.0752970e-02 3.1639040e-01 7.8581679e-01\n",
      " 3.2301107e-01 2.2817740e-01 2.6904577e-02 4.6701866e-01 3.9555380e-01\n",
      " 4.0213755e-01 9.9450743e-01 7.6794267e-01 7.7974743e-01 1.5471098e-01\n",
      " 5.7748526e-01 1.9947898e-01 3.5651498e-02 7.0321244e-01 2.4285722e-01\n",
      " 1.8483765e-01 4.0737194e-01 2.9446234e-03 5.9854305e-01 6.1150050e-01\n",
      " 3.0452749e-01 4.0460557e-01 2.8888902e-01 1.0816145e-01 3.6223999e-03\n",
      " 1.5769954e-01 8.8409138e-01 5.2974951e-01 4.3481645e-01 4.0742597e-01\n",
      " 8.3832341e-01 6.5008402e-01 5.5914986e-01 4.2341813e-01 5.3394414e-02\n",
      " 5.5679983e-01 7.4011105e-01 8.9591354e-01 4.5541923e-02 9.2030120e-01\n",
      " 1.6791239e-01 1.2143011e-01 6.2296599e-01 1.1928888e-01 3.1641051e-01\n",
      " 8.9931762e-01 6.0320750e-02 6.6444534e-01 7.6848102e-01 2.8273004e-01\n",
      " 2.7488954e-02 6.2866360e-01 7.2448689e-01 2.4761574e-01 9.5408803e-01]\n"
     ]
    }
   ],
   "source": [
    "# Initialize matrix A with random floating-point values\n",
    "A = np.random.rand(200, 200).astype(np.float32)\n",
    "\n",
    "# Initialize vector B with random floating-point values\n",
    "B = np.random.rand(200).astype(np.float32)\n",
    "\n",
    "# Printing A and B (optional)\n",
    "print(\"Matrix A:\")\n",
    "print(A)\n",
    "print(\"\\nVector B:\")\n",
    "print(B)"
   ]
  },
  {
   "cell_type": "code",
   "execution_count": 5,
   "metadata": {},
   "outputs": [],
   "source": [
    "# Function to perform matrix-vector multiplication\n",
    "def mat_vec_multiply(matrix_row, vector):\n",
    "    return np.dot(matrix_row, vector)"
   ]
  },
  {
   "cell_type": "code",
   "execution_count": 6,
   "metadata": {},
   "outputs": [],
   "source": [
    "def apply_method(A, B):\n",
    "    start_time = time.time()\n",
    "    pool = multiprocessing.Pool()\n",
    "    result = pool.apply(mat_vec_multiply, args=(A, B))\n",
    "    pool.close()\n",
    "    pool.join()\n",
    "    end_time = time.time()\n",
    "    execution_time = end_time - start_time\n",
    "    return result, execution_time"
   ]
  },
  {
   "cell_type": "code",
   "execution_count": 7,
   "metadata": {},
   "outputs": [],
   "source": [
    "def apply_async_method(A, B):\n",
    "    start_time = time.time()\n",
    "    pool = multiprocessing.Pool()\n",
    "    result = pool.apply_async(mat_vec_multiply, args=(A, B))\n",
    "    pool.close()\n",
    "    pool.join()\n",
    "    end_time = time.time()\n",
    "    execution_time = end_time - start_time\n",
    "    return result.get(), execution_time"
   ]
  },
  {
   "cell_type": "code",
   "execution_count": 8,
   "metadata": {},
   "outputs": [],
   "source": [
    "def map_method(A, B):\n",
    "    start_time = time.time()\n",
    "    pool = multiprocessing.Pool()\n",
    "    result = pool.map(mat_vec_multiply, [A] * len(B), B)\n",
    "    pool.close()\n",
    "    pool.join()\n",
    "    end_time = time.time()\n",
    "    execution_time = end_time - start_time\n",
    "    return result, execution_time"
   ]
  },
  {
   "cell_type": "code",
   "execution_count": 9,
   "metadata": {},
   "outputs": [],
   "source": [
    "def map_async_method(A, B):\n",
    "    start_time = time.time()\n",
    "    pool = multiprocessing.Pool()\n",
    "    result = pool.map_async(mat_vec_multiply, [A] * len(B), B)\n",
    "    pool.close()\n",
    "    pool.join()\n",
    "    end_time = time.time()\n",
    "    execution_time = end_time - start_time\n",
    "    return result.get(), execution_time"
   ]
  },
  {
   "cell_type": "code",
   "execution_count": 10,
   "metadata": {},
   "outputs": [],
   "source": [
    "def starmap_method(A, B):\n",
    "    start_time = time.time()\n",
    "    pool = multiprocessing.Pool()\n",
    "    result = pool.starmap(mat_vec_multiply, [(A, b) for b in B])\n",
    "    pool.close()\n",
    "    pool.join()\n",
    "    end_time = time.time()\n",
    "    execution_time = end_time - start_time\n",
    "    return result, execution_time"
   ]
  },
  {
   "cell_type": "code",
   "execution_count": 11,
   "metadata": {},
   "outputs": [],
   "source": [
    "def starmap_async_method(A, B):\n",
    "    start_time = time.time()\n",
    "    pool = multiprocessing.Pool()\n",
    "    result = pool.starmap_async(mat_vec_multiply, [(A, b) for b in B])\n",
    "    pool.close()\n",
    "    pool.join()\n",
    "    end_time = time.time()\n",
    "    execution_time = end_time - start_time\n",
    "    return result.get(), execution_time\n"
   ]
  },
  {
   "cell_type": "code",
   "execution_count": 12,
   "metadata": {},
   "outputs": [],
   "source": [
    "def main():\n",
    " # Generate random matrix A and vector B\n",
    "\n",
    "    # Measure execution time for each method\n",
    "    result_apply, time_apply = apply_method(A, B)\n",
    "    # result_apply_async, time_apply_async = apply_async_method(A, B)\n",
    "    # result_map, time_map = map_method(A, B)\n",
    "    # result_map_async, time_map_async = map_async_method(A, B)\n",
    "    # result_starmap, time_starmap = starmap_method(A, B)\n",
    "    # result_starmap_async, time_starmap_async = starmap_async_method(A, B)\n",
    "\n",
    "    # Print results\n",
    "    print(f\"Method: apply, Execution Time: {time_apply:.6f} seconds\")\n",
    "    # print(f\"Method: apply_async, Execution Time: {time_apply_async:.6f} seconds\")\n",
    "    # print(f\"Method: map, Execution Time: {time_map:.6f} seconds\")\n",
    "    # print(f\"Method: map_async, Execution Time: {time_map_async:.6f} seconds\")\n",
    "    # print(f\"Method: starmap, Execution Time: {time_starmap:.6f} seconds\")\n",
    "    # print(f\"Method: starmap_async, Execution Time: {time_starmap_async:.6f} seconds\")\n",
    "    \n",
    "if __name__ == \"__main__\":\n",
    "    main()"
   ]
  }
 ],
 "metadata": {
  "kernelspec": {
   "display_name": ".venv",
   "language": "python",
   "name": "python3"
  },
  "language_info": {
   "codemirror_mode": {
    "name": "ipython",
    "version": 3
   },
   "file_extension": ".py",
   "mimetype": "text/x-python",
   "name": "python",
   "nbconvert_exporter": "python",
   "pygments_lexer": "ipython3",
   "version": "3.11.4"
  }
 },
 "nbformat": 4,
 "nbformat_minor": 2
}
